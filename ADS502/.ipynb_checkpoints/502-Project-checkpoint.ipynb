{
 "cells": [
  {
   "cell_type": "markdown",
   "id": "a67e303d-cf7d-457d-90f3-38a36dc62347",
   "metadata": {},
   "source": [
    "# 502 Project"
   ]
  },
  {
   "cell_type": "code",
   "execution_count": 2,
   "id": "7a619f49-f77c-4018-920e-12d7f43e4aa1",
   "metadata": {},
   "outputs": [],
   "source": [
    "# Project Imports\n",
    "import pandas as pd"
   ]
  },
  {
   "cell_type": "code",
   "execution_count": 16,
   "id": "1674190c-0358-4e01-9ab0-f0001e88584c",
   "metadata": {},
   "outputs": [],
   "source": [
    "autoimmunity_training_df = pd.read_csv('drug_induced_autoimmunity_prediction/DIA_trainingset_RDKit_descriptors.csv')\n",
    "autoimmunity_test_df = pd.read_csv('drug_induced_autoimmunity_prediction/DIA_testset_RDKit_descriptors.csv')\n",
    "autoimmunity_description_df = pd.read_excel('drug_induced_autoimmunity_prediction/RDKit_ChemDes.xlsx')"
   ]
  },
  {
   "cell_type": "code",
   "execution_count": 15,
   "id": "25a7a8be-b83c-4dda-baba-af0b7491a51d",
   "metadata": {},
   "outputs": [],
   "source": [
    "combined_df = pd.concat([autoimmunity_test_df, autoimmunity_training_df], axis=0)"
   ]
  },
  {
   "cell_type": "code",
   "execution_count": null,
   "id": "922b10fe-d707-4dcd-87ba-29a0c965441a",
   "metadata": {},
   "outputs": [],
   "source": []
  }
 ],
 "metadata": {
  "kernelspec": {
   "display_name": "Python 3 (ipykernel)",
   "language": "python",
   "name": "python3"
  },
  "language_info": {
   "codemirror_mode": {
    "name": "ipython",
    "version": 3
   },
   "file_extension": ".py",
   "mimetype": "text/x-python",
   "name": "python",
   "nbconvert_exporter": "python",
   "pygments_lexer": "ipython3",
   "version": "3.13.0"
  }
 },
 "nbformat": 4,
 "nbformat_minor": 5
}
